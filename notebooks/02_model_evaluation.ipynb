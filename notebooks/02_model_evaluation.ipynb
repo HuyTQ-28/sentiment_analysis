{
  "nbformat": 4,
  "nbformat_minor": 0,
  "metadata": {
    "colab": {
      "provenance": [],
      "gpuType": "T4"
    },
    "kernelspec": {
      "name": "python3",
      "display_name": "Python 3"
    },
    "language_info": {
      "name": "python"
    },
    "accelerator": "GPU"
  },
  "cells": [
    {
      "cell_type": "code",
      "source": [
        "import os\n",
        "from transformers import AutoTokenizer, AutoModelForSequenceClassification\n",
        "from src.predict import predict_on_test_set, predict_single_sentence\n",
        "from src.config import get_config"
      ],
      "metadata": {
        "id": "-kJ4hRW-VnYE"
      },
      "execution_count": 2,
      "outputs": []
    },
    {
      "cell_type": "code",
      "source": [
        "def main():\n",
        "    local_model_path = \"drive/MyDrive/final_model\"\n",
        "\n",
        "    if not os.path.exists(local_model_path):\n",
        "        print(f\"Lỗi: Không tìm thấy model tại '{local_model_path}'\")\n",
        "        return\n",
        "\n",
        "    config = get_config()\n",
        "    config[\"test_file\"] = \"test.csv\"\n",
        "\n",
        "    print(f\"Đang tải model và tokenizer từ: {local_model_path}\")\n",
        "    tokenizer = AutoTokenizer.from_pretrained(local_model_path)\n",
        "    model = AutoModelForSequenceClassification.from_pretrained(local_model_path)\n",
        "\n",
        "    # 1. Chạy đánh giá trên toàn bộ tập test\n",
        "    predict_on_test_set(model, tokenizer, config)\n",
        "\n",
        "    # 2. Thử dự đoán một vài câu mẫu\n",
        "    print(\"\\n--- THỬ DỰ ĐOÁN CÂU ĐƠN LẺ ---\")\n",
        "    sentence1 = \"I am so happy and excited about the new project!\"\n",
        "    prediction1 = predict_single_sentence(model, tokenizer, config, sentence1)\n",
        "    print(f\"Câu: '{sentence1}'\")\n",
        "    print(f\"--> Dự đoán: {prediction1}\")\n",
        "\n",
        "    sentence2 = \"This is a disaster, I feel so angry and disappointed.\"\n",
        "    prediction2 = predict_single_sentence(model, tokenizer, config, sentence2)\n",
        "    print(f\"\\nCâu: '{sentence2}'\")\n",
        "    print(f\"--> Dự đoán: {prediction2}\")\n",
        "    print(\"---------------------------------\")"
      ],
      "metadata": {
        "id": "QJJbBo7tWJtf"
      },
      "execution_count": 6,
      "outputs": []
    },
    {
      "cell_type": "code",
      "source": [
        "main()"
      ],
      "metadata": {
        "colab": {
          "base_uri": "https://localhost:8080/"
        },
        "id": "o48m74U1Mc3J",
        "outputId": "310bda3d-2098-4970-b5c6-88938e2dbaf8"
      },
      "execution_count": 7,
      "outputs": [
        {
          "output_type": "stream",
          "name": "stdout",
          "text": [
            "Đang tải model và tokenizer từ: drive/MyDrive/final_model\n",
            "\n",
            "--- Bắt đầu đánh giá trên tập test ---\n",
            "Đang chạy dự đoán trên 7445 mẫu của tập test...\n",
            "\n",
            "--- BÁO CÁO PHÂN LOẠI CHI TIẾT ---\n",
            "              precision    recall  f1-score   support\n",
            "\n",
            "     sadness     0.9209    0.9106    0.9157      1241\n",
            "         joy     0.9390    0.8806    0.9089      1240\n",
            "        love     0.9225    0.9396    0.9309      1241\n",
            "       anger     0.9307    0.9412    0.9359      1241\n",
            "        fear     0.9367    0.9065    0.9214      1241\n",
            "    surprise     0.9236    0.9936    0.9573      1241\n",
            "\n",
            "    accuracy                         0.9287      7445\n",
            "   macro avg     0.9289    0.9287    0.9283      7445\n",
            "weighted avg     0.9289    0.9287    0.9284      7445\n",
            "\n",
            "--------------------------------------\n",
            "\n",
            "--- THỬ DỰ ĐOÁN CÂU ĐƠN LẺ ---\n",
            "Câu: 'I am so happy and excited about the new project!'\n",
            "--> Dự đoán: joy\n",
            "\n",
            "Câu: 'This is a disaster, I feel so angry and disappointed.'\n",
            "--> Dự đoán: anger\n",
            "---------------------------------\n"
          ]
        }
      ]
    }
  ]
}